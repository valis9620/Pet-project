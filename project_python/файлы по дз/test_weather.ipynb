{
 "cells": [
  {
   "cell_type": "code",
   "execution_count": 39,
   "metadata": {},
   "outputs": [],
   "source": [
    "import pandas as pd\n",
    "import requests\n",
    "import json\n",
    "import sqlite3"
   ]
  },
  {
   "cell_type": "code",
   "execution_count": 40,
   "metadata": {},
   "outputs": [],
   "source": [
    "url = \"https://api.open-meteo.com/v1/forecast\"\n",
    "params = {\n",
    "\t\"latitude\": 55.7522,\n",
    "\t\"longitude\": 37.6156,\n",
    "\t\"daily\": [\"temperature_2m_max\", \"temperature_2m_min\", \"sunrise\", \"sunset\", \"rain_sum\", \"snowfall_sum\"],\n",
    "\t\"timezone\": \"Europe/Moscow\",\n",
    "\t\"forecast_days\": 1\n",
    "}"
   ]
  },
  {
   "cell_type": "code",
   "execution_count": 41,
   "metadata": {},
   "outputs": [],
   "source": [
    "response = requests.get(url, params=params)"
   ]
  },
  {
   "cell_type": "code",
   "execution_count": 42,
   "metadata": {},
   "outputs": [],
   "source": [
    "data = json.loads(response.text)"
   ]
  },
  {
   "cell_type": "code",
   "execution_count": 43,
   "metadata": {},
   "outputs": [],
   "source": [
    "column_name = list(data['daily'].keys())"
   ]
  },
  {
   "cell_type": "code",
   "execution_count": 44,
   "metadata": {},
   "outputs": [],
   "source": [
    "df = pd.json_normalize(data['daily'])"
   ]
  },
  {
   "cell_type": "code",
   "execution_count": 45,
   "metadata": {},
   "outputs": [],
   "source": [
    "exploded_df = df.explode(['time',\n",
    " 'temperature_2m_max',\n",
    " 'temperature_2m_min',\n",
    " 'sunrise',\n",
    " 'sunset',\n",
    " 'rain_sum',\n",
    " 'snowfall_sum'], ignore_index = True)"
   ]
  },
  {
   "cell_type": "code",
   "execution_count": 46,
   "metadata": {},
   "outputs": [],
   "source": [
    "exploded_df.rename(columns=\n",
    "{\n",
    "          'time' : 'date',\n",
    "          'temperature_2m_max' : 'temperature_max',\n",
    "          'temperature_2m_min' : 'temperature_min',\n",
    "          'rain_sum' : 'rain',\n",
    "          'snowfall_sum' : 'snowfall'\n",
    "},\n",
    "inplace=True)"
   ]
  },
  {
   "cell_type": "code",
   "execution_count": 47,
   "metadata": {},
   "outputs": [],
   "source": [
    "exploded_df.insert(loc= 1 , column='location', value='Moscow')"
   ]
  },
  {
   "cell_type": "code",
   "execution_count": 48,
   "metadata": {},
   "outputs": [],
   "source": [
    "con_sqlite = sqlite3.connect('new_db_weather')"
   ]
  },
  {
   "cell_type": "code",
   "execution_count": 49,
   "metadata": {},
   "outputs": [
    {
     "data": {
      "text/plain": [
       "1"
      ]
     },
     "execution_count": 49,
     "metadata": {},
     "output_type": "execute_result"
    }
   ],
   "source": [
    "exploded_df.to_sql(con=con_sqlite, name = 'weather', index=False, if_exists='append')"
   ]
  }
 ],
 "metadata": {
  "kernelspec": {
   "display_name": ".venv",
   "language": "python",
   "name": "python3"
  },
  "language_info": {
   "codemirror_mode": {
    "name": "ipython",
    "version": 3
   },
   "file_extension": ".py",
   "mimetype": "text/x-python",
   "name": "python",
   "nbconvert_exporter": "python",
   "pygments_lexer": "ipython3",
   "version": "3.11.5"
  }
 },
 "nbformat": 4,
 "nbformat_minor": 2
}
